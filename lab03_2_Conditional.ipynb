{
 "cells": [
  {
   "cell_type": "code",
   "execution_count": 43,
   "metadata": {},
   "outputs": [],
   "source": [
    "from numpy  import  * \n",
    "import numpy as np\n",
    "import math\n",
    "import statistics"
   ]
  },
  {
   "cell_type": "code",
   "execution_count": 20,
   "metadata": {},
   "outputs": [],
   "source": [
    "def piCal(concri,senval):\n",
    "    hint = 0\n",
    "    pi = 3\n",
    "    for i in range(senval):\n",
    "        x = np.random.uniform(-1,1)\n",
    "        y = np.random.uniform(-1,1)\n",
    "        dis = pow(x**2+y**2,0.5)\n",
    "        if dis <= 1.0:\n",
    "            hint += 1\n",
    "        pi = 4*(hint/senval)\n",
    "        if abs(pi-math.pi) < concri:\n",
    "            return pi\n",
    "    print(\"The value of PI is %s\" %pi)"
   ]
  },
  {
   "cell_type": "code",
   "execution_count": 21,
   "metadata": {},
   "outputs": [
    {
     "data": {
      "text/plain": [
       "3.1316"
      ]
     },
     "execution_count": 21,
     "metadata": {},
     "output_type": "execute_result"
    }
   ],
   "source": [
    "piCal(0.01,10000)"
   ]
  },
  {
   "cell_type": "code",
   "execution_count": 22,
   "metadata": {},
   "outputs": [
    {
     "data": {
      "text/plain": [
       "3.14152"
      ]
     },
     "execution_count": 22,
     "metadata": {},
     "output_type": "execute_result"
    }
   ],
   "source": [
    "piCal(0.0001,100000)"
   ]
  },
  {
   "cell_type": "code",
   "execution_count": 36,
   "metadata": {},
   "outputs": [],
   "source": [
    "def piCal2(concri):\n",
    "        hint = 1\n",
    "        pi = 3\n",
    "        count = 1\n",
    "        while abs(4*(hint/count)-math.pi) >= concri:\n",
    "                x = np.random.uniform(-1,1)\n",
    "                y = np.random.uniform(-1,1)\n",
    "                dis = pow(x**2+y**2,0.5)\n",
    "                count +=1\n",
    "                if dis <= 1.0:\n",
    "                        hint += 1\n",
    "        return  4*(hint/count)"
   ]
  },
  {
   "cell_type": "code",
   "execution_count": 37,
   "metadata": {},
   "outputs": [
    {
     "data": {
      "text/plain": [
       "3.140740740740741"
      ]
     },
     "execution_count": 37,
     "metadata": {},
     "output_type": "execute_result"
    }
   ],
   "source": [
    "piCal2(0.001)"
   ]
  },
  {
   "cell_type": "code",
   "execution_count": 38,
   "metadata": {},
   "outputs": [
    {
     "data": {
      "text/plain": [
       "3.1416309012875536"
      ]
     },
     "execution_count": 38,
     "metadata": {},
     "output_type": "execute_result"
    }
   ],
   "source": [
    "piCal2(0.0001)"
   ]
  },
  {
   "cell_type": "code",
   "execution_count": 49,
   "metadata": {},
   "outputs": [],
   "source": [
    "def batch(concri,n=10):\n",
    "    result = []\n",
    "    i = 1\n",
    "    while i < n+1:\n",
    "        result.append(piCal2(concri))\n",
    "        i += 1\n",
    "    return result,statistics.mean(result),statistics.stdev(result)"
   ]
  },
  {
   "cell_type": "code",
   "execution_count": 50,
   "metadata": {},
   "outputs": [
    {
     "data": {
      "text/plain": [
       "([3.1515151515151514,\n",
       "  3.1515151515151514,\n",
       "  3.151304347826087,\n",
       "  3.131613239510034,\n",
       "  3.142857142857143,\n",
       "  3.151567868481712,\n",
       "  3.142857142857143,\n",
       "  3.142857142857143,\n",
       "  3.135135135135135,\n",
       "  3.142857142857143],\n",
       " 3.1444079465411843,\n",
       " 0.007142665901403873)"
      ]
     },
     "execution_count": 50,
     "metadata": {},
     "output_type": "execute_result"
    }
   ],
   "source": [
    "batch(0.01)"
   ]
  },
  {
   "cell_type": "code",
   "execution_count": 51,
   "metadata": {},
   "outputs": [
    {
     "data": {
      "text/plain": [
       "([3.1411042944785277,\n",
       "  3.140684410646388,\n",
       "  3.1412429378531073,\n",
       "  3.1412429378531073,\n",
       "  3.140695915279879,\n",
       "  3.1408647140864714,\n",
       "  3.1412429378531073,\n",
       "  3.1423149905123338,\n",
       "  3.1420911528150133,\n",
       "  3.1411042944785277],\n",
       " 3.1412588585856462,\n",
       " 0.0005435392608793054)"
      ]
     },
     "execution_count": 51,
     "metadata": {},
     "output_type": "execute_result"
    }
   ],
   "source": [
    "batch(0.001)"
   ]
  },
  {
   "cell_type": "code",
   "execution_count": 52,
   "metadata": {},
   "outputs": [
    {
     "data": {
      "text/plain": [
       "([3.1416007036059805,\n",
       "  3.1415929203539825,\n",
       "  3.1415390293412067,\n",
       "  3.1416666666666666,\n",
       "  3.1416309012875536,\n",
       "  3.141605839416058,\n",
       "  3.1416122004357296,\n",
       "  3.141513869299483,\n",
       "  3.141518275538894,\n",
       "  3.1416796841270713],\n",
       " 3.1415960090072628,\n",
       " 5.738562160513864e-05)"
      ]
     },
     "execution_count": 52,
     "metadata": {},
     "output_type": "execute_result"
    }
   ],
   "source": [
    "batch(0.0001)"
   ]
  },
  {
   "cell_type": "code",
   "execution_count": 53,
   "metadata": {},
   "outputs": [
    {
     "data": {
      "text/plain": [
       "([3.1415926609806855,\n",
       "  3.141585417549809,\n",
       "  3.1415873015873017,\n",
       "  3.141597256246938,\n",
       "  3.1415929203539825,\n",
       "  3.141585852823731,\n",
       "  3.1415838189921153,\n",
       "  3.1415980072810883,\n",
       "  3.141602175277139,\n",
       "  3.1415929203539825],\n",
       " 3.1415918331446773,\n",
       " 6.139352233994167e-06)"
      ]
     },
     "execution_count": 53,
     "metadata": {},
     "output_type": "execute_result"
    }
   ],
   "source": [
    "batch(0.00001)"
   ]
  },
  {
   "cell_type": "code",
   "execution_count": null,
   "metadata": {},
   "outputs": [],
   "source": []
  }
 ],
 "metadata": {
  "kernelspec": {
   "display_name": "Python 3",
   "language": "python",
   "name": "python3"
  },
  "language_info": {
   "codemirror_mode": {
    "name": "ipython",
    "version": 3
   },
   "file_extension": ".py",
   "mimetype": "text/x-python",
   "name": "python",
   "nbconvert_exporter": "python",
   "pygments_lexer": "ipython3",
   "version": "3.7.4"
  }
 },
 "nbformat": 4,
 "nbformat_minor": 2
}
